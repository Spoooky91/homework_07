{
  "nbformat": 4,
  "nbformat_minor": 0,
  "metadata": {
    "colab": {
      "provenance": []
    },
    "kernelspec": {
      "name": "python3",
      "display_name": "Python 3"
    },
    "language_info": {
      "name": "python"
    }
  },
  "cells": [
    {
      "cell_type": "markdown",
      "source": [
        "I. Numpy\n",
        "Импортируйте NumPy\n"
      ],
      "metadata": {
        "id": "uB6Jw8c2_s9i"
      }
    },
    {
      "cell_type": "code",
      "execution_count": null,
      "metadata": {
        "id": "0LdtmYcw_Xq8"
      },
      "outputs": [],
      "source": [
        "\n",
        "import numpy as np\n"
      ]
    },
    {
      "cell_type": "markdown",
      "source": [
        "Создайте одномерный массив размера 10, заполненный нулями и пятым элемент равным\n",
        "1. Трансформируйте в двумерный массив."
      ],
      "metadata": {
        "id": "fgaqeOZI_tqK"
      }
    },
    {
      "cell_type": "code",
      "source": [
        "arr = np.zeros(10)\n",
        "arr[4] = 1\n",
        "arr_2d = arr.reshape(2, 5)\n",
        "print(arr_2d)\n",
        "\n"
      ],
      "metadata": {
        "id": "2Yefly8c_t6o"
      },
      "execution_count": null,
      "outputs": []
    },
    {
      "cell_type": "markdown",
      "source": [],
      "metadata": {
        "id": "nC8M3EY3_uH2"
      }
    },
    {
      "cell_type": "code",
      "source": [
        "Создайте одномерный массив со значениями от 10 до 49 и разверните его (первый элемент становится последним). Найдите в нем все четные элементы.\n",
        "\n",
        "arr = np.arange(10, 50)\n",
        "arr = arr[::-1]\n",
        "even_elements = arr[arr % 2 == 0]\n",
        "\n",
        "print(arr)\n",
        "print(even_elements)\n",
        "\n",
        "Создайте двумерный массив 3x3 со значениями от 0 до 8\n",
        "\n",
        "arr = np.arange(9).reshape(3, 3)\n",
        "\n",
        "print(arr)\n",
        "\n",
        "Создайте массив 4x3x2 со случайными значениями. Найти его минимум и максимум.\n",
        "\n",
        "arr = np.random.rand(4, 3, 2)\n",
        "min_val = arr.min()\n",
        "max_val = arr.max()\n",
        "\n",
        "print(\"Минимум: \", min_val)\n",
        "print(\"Максимум: \", max_val)\n",
        "\n",
        "Создайте два двумерных массива размерами 6x4 и 4x3 и произведите их матричное умножение."
      ],
      "metadata": {
        "id": "LnGbNIMe_ufj"
      },
      "execution_count": null,
      "outputs": []
    },
    {
      "cell_type": "markdown",
      "source": [],
      "metadata": {
        "id": "3XncuFZF_vCn"
      }
    },
    {
      "cell_type": "code",
      "source": [],
      "metadata": {
        "id": "vMZaKkJZ_vU6"
      },
      "execution_count": null,
      "outputs": []
    }
  ]
}